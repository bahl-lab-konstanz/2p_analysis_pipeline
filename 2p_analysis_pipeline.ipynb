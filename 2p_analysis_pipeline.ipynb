{
 "cells": [
  {
   "cell_type": "code",
   "execution_count": 1,
   "metadata": {
    "collapsed": true,
    "pycharm": {
     "name": "#%%\n"
    }
   },
   "outputs": [
    {
     "name": "stderr",
     "output_type": "stream",
     "text": [
      "C:\\Users\\ag-bahl\\AppData\\Local\\Temp\\ipykernel_18508\\544328641.py:27: DeprecationWarning: Importing display from IPython.core.display is deprecated since IPython 7.14, please import from IPython display\n",
      "  from IPython.core.display import display, HTML\n"
     ]
    },
    {
     "data": {
      "text/plain": "<IPython.core.display.HTML object>",
      "text/html": "<style>.container { width:80% !important; }</style>"
     },
     "metadata": {},
     "output_type": "display_data"
    }
   ],
   "source": [
    "#import\n",
    "import h5py\n",
    "import os\n",
    "import numpy as np\n",
    "from tifffile import imread, imsave, imwrite\n",
    "from scipy.interpolate import interp1d\n",
    "import tkinter as tk\n",
    "from tkinter import filedialog\n",
    "import matplotlib.pyplot as plt\n",
    "import numpy as np\n",
    "import pandas as pd\n",
    "from PIL import Image\n",
    "from skimage import io\n",
    "import random\n",
    "from scipy.stats import ttest_ind as ttest\n",
    "from scipy.interpolate import interp1d\n",
    "import copy\n",
    "import matplotlib.lines as mlines\n",
    "import shutil\n",
    "import scipy as sp\n",
    "from tqdm import tqdm\n",
    "import time\n",
    "import scipy as sp\n",
    "import h5py\n",
    "import matplotlib.pyplot as plt\n",
    "import numpy as np\n",
    "from IPython.core.display import display, HTML\n",
    "display(HTML(\"<style>.container { width:80% !important; }</style>\"))\n",
    "import errno\n",
    "import os\n",
    "import imageio\n",
    "import os\n",
    "#import cv2\n",
    "import glob\n",
    "import imageio\n",
    "#import telegram\n",
    "from tifffile import imread, imsave\n",
    "import h5py\n",
    "import matplotlib\n",
    "import numpy as np\n",
    "from mpl_toolkits.axes_grid1 import make_axes_locatable\n",
    "import matplotlib as mpl\n",
    "import tables\n",
    "from tqdm import tqdm"
   ]
  },
  {
   "cell_type": "markdown",
   "source": [
    "#### Set datetime (outdated but still implemented in some places)"
   ],
   "metadata": {
    "collapsed": false,
    "pycharm": {
     "name": "#%% md\n"
    }
   }
  },
  {
   "cell_type": "code",
   "execution_count": 2,
   "outputs": [],
   "source": [
    "datetime = \"2022-04-12_11-23-06\""
   ],
   "metadata": {
    "collapsed": false,
    "pycharm": {
     "name": "#%%\n"
    }
   }
  },
  {
   "cell_type": "markdown",
   "source": [
    "#### Read *.txt where target files are specified into list --> dt"
   ],
   "metadata": {
    "collapsed": false,
    "pycharm": {
     "name": "#%% md\n"
    }
   }
  },
  {
   "cell_type": "code",
   "execution_count": 3,
   "outputs": [],
   "source": [
    "with open(r\"C:\\Users\\ag-bahl\\Desktop\\target.txt\") as f:\n",
    "    dt = f.readlines()\n",
    "    dt = [x[0:-1] if x[-1:] == '\\n' else x for x in dt]"
   ],
   "metadata": {
    "collapsed": false,
    "pycharm": {
     "name": "#%%\n"
    }
   }
  },
  {
   "cell_type": "markdown",
   "source": [
    "### Big class which imports files and makes data available in --> exp_list"
   ],
   "metadata": {
    "collapsed": false,
    "pycharm": {
     "name": "#%% md\n"
    }
   }
  },
  {
   "cell_type": "markdown",
   "source": [
    "##### Organization of exp_list\n",
    "\n",
    "- **exp_list accessible with [i]**\n",
    "    - *.hdf5_preprocessed   --> yields filename of selected dataset\n",
    "    - *.datetime            --> yields datetime of selected dataset\n",
    "    - *.dir_data            --> yields directory where selected dataset hdf5 is stored\n",
    "    - *.name_of_planes      --> yields list of names of all planes in selected dataset\n",
    "    - *.planes              --> **subobject for each plane within selected experiment; accessible with [i]**\n",
    "        - *.z_name            --> yields name of selected plane\n",
    "        - *.z                 --> yields name of selected plane as *int*\n",
    "        - *.experiment_parent --> points to object of experiment, selected plane is part of\n",
    "        - *.no_cells_in_plane --> yields number of cells in selected plane as *int*\n",
    "        - *.avg_image         --> yields average image of selected plane as a numpy.ndarray; displayable with plt.imshow()\n",
    "        - *.cells             --> **subobject for each cell within selected plane; accessible with [i]**\n",
    "            - *.plane_parent --> points to object of plane, selected cell is part of\n",
    "            - *.cell_no_10000 --> yields cell number with 10.000 to avoid 0 index problems as *int*\n",
    "            - *.cell_no --> yields cell number as *int*\n",
    "            - *.z --> yields name of plane the selected cell is part of as *int*\n",
    "            - *.contour --> yields contour of selected cell as numpy.ndarray\n",
    "            - *.mask --> yields mask of selected cell as numpy.ndarray\n",
    "            - *.contour_mask --> yields contour_mask of selected cell as numpy.ndarray\n",
    "            - *.centroid --> yields centroid of selected cell as a tuple\n",
    "            - *.brs --> yields list of brainregions selected cell is located within\n",
    "            - *.contour_reg --> yields registered contour of selected cell as numpy.ndarray\n",
    "            - *.mask_reg --> yields registered mask of selected cell as numpy.ndarray\n",
    "            - *.contour_mask_reg --> yields registered contour_mask of selected cell as numpy.ndarray\n",
    "            - *.centroid_reg --> yields registered centroid of selected cell as a tuple\n",
    "\n",
    "            - **TRACES OF LENGTH 160 CONTAIN NEUTRAL STIMULUS FROM PREVIOUS TRIAL; ONE TRIAL = TRACE[20:140]**\n",
    "\n",
    "            - *.traces_stim0 --> unedited mean of stimulus 0 aligned traces of selected cell\n",
    "            - *.traces_stim1 --> unedited mean of stimulus 1 aligned traces of selected cell\n",
    "            - *.df_d0_stim0 --> df/d0 for mean of stimulus 0 aligned traces of selected cell\n",
    "            - *.df_d0_stim1 --> df/d0 for mean of stimulus 1 aligned traces of selected cell\n",
    "            - *.traces_normalized_stim0 --> df/d0 for mean of stimulus 0 aligned traces of selected cell standardized by standard deviation\n",
    "            - *.traces_normalized_stim1 --> df/d0 for mean of stimulus 1 aligned traces of selected cell standardized by standard deviation\n",
    "            - *.traces_stim0 --> df/d0 for mean of stimulus 0 aligned traces of selected cell standardized by standard deviation and pruned to only contain one trial\n",
    "            - *.traces_stim1 --> df/d0 for mean of stimulus 1 aligned traces of selected cell standardized by standard deviation and pruned to only contain one trial\n",
    "            - *.traces_std_intra_stim0 --> standard deviation within mean of unedited trace in reaction to stim 0 of selected cell\n",
    "            - *.traces_std_intra_stim1 --> standard deviation within mean of unedited trace in reaction to stim 1 of selected cell\n",
    "            - *.traces_std_extra_stim0 --> standard deviation between all of unedited reactions to stim 0 of selected cell\n",
    "            - *.traces_std_extra_stim1 --> standard deviation between all of unedited reactions to stim 1 of selected cell\n",
    "            - *.show() --> shows location of selected cell in plane\n",
    "                - create_new [bool:default=True] = Determines if plane is drawn again (for drawing multiple target cells)\n",
    "                - size [tuple:default=(10,10)] = Determines size of displayed image\n",
    "                - mode [str:default=(\"c\")] = Determines display mode (c=contour, m=mask, cm=contour mask)\n",
    "                - alpha [int:default=1] = Determines opacity of cell marker\n",
    "                - color [str:default=\"red\"] = Determines color of cell marker\n",
    "                - colormap [str:default=\"gray\"] = Determines color scheme of plane\n",
    "            - *.show_trace() --> shows unedited mean of reaction of selected cell to stim 0 and stim 1 and shows normalized df/d0 of selected cell to stim 0 and stim 1\n",
    "                - location [bool:default=False] = Determines if location of cell in plane is shown"
   ],
   "metadata": {
    "collapsed": false,
    "pycharm": {
     "name": "#%% md\n"
    }
   }
  },
  {
   "cell_type": "code",
   "execution_count": null,
   "outputs": [],
   "source": [
    "%%time\n",
    "class experiment:\n",
    "\n",
    "    def __init__(self,datetime=datetime):\n",
    "        self.datetime = datetime\n",
    "        self.dir_data = \"C:/Users/ag-bahl/Documents/functional_volume_characterization/raw/\" + self.datetime + \"/\"\n",
    "\n",
    "\n",
    "    def load_data(self, which_planes = True):\n",
    "        class cell:\n",
    "            def __init__(self, cell_no, plane_parent):\n",
    "                self.plane_parent = plane_parent\n",
    "                self.dir_data = self.plane_parent.experiment_parent.dir_data\n",
    "                self.cell_no_10000 = cell_no\n",
    "                self.cell_no = cell_no - 10000\n",
    "                self.z = plane_parent.z\n",
    "\n",
    "                self.contour = np.array(plane_parent.experiment_parent.hdf5_preprocessed[plane_parent.z_name]['cellpose_segmentation']['unit_contours'][str(self.cell_no_10000)])\n",
    "                self.mask = np.array(plane_parent.experiment_parent.hdf5_preprocessed[plane_parent.z_name]['cellpose_segmentation']['unit_masks'][str(self.cell_no_10000)]).transpose()\n",
    "                self.mask[:,[0, 1]] = self.mask[:,[1, 0]]\n",
    "                self.contour_mask = np.array(plane_parent.experiment_parent.hdf5_preprocessed[plane_parent.z_name]['cellpose_segmentation']['unit_contour_masks'][str(self.cell_no_10000)]).transpose()\n",
    "                self.contour_mask[:,[0, 1]] = self.contour_mask[:,[1, 0]]\n",
    "                self.centroid = tuple(plane_parent.experiment_parent.hdf5_preprocessed[plane_parent.z_name]['cellpose_segmentation']['unit_centroids'][self.cell_no])\n",
    "\n",
    "                self.brs = []\n",
    "                try:\n",
    "                    for indi in np.where(np.array(plane_parent.experiment_parent.hdf5_preprocessed[plane_parent.z_name]['cellpose_segmentation']['region_mask_units_matrix_ants_registered'])[:,self.cell_no])[0]:\n",
    "                        self.brs.append(plane_parent.experiment_parent.hdf5_preprocessed[plane_parent.z_name]['cellpose_segmentation']['region_mask_units_matrix_ants_registered'].attrs[str(indi)])\n",
    "\n",
    "\n",
    "                    if 'unit_contours_ants_registered' in plane_parent.experiment_parent.hdf5_preprocessed[plane_parent.z_name]['cellpose_segmentation'].keys():\n",
    "                        self.contour_reg = np.array(plane_parent.experiment_parent.hdf5_preprocessed[plane_parent.z_name]['cellpose_segmentation']['unit_contours_ants_registered'][str(self.cell_no_10000)])\n",
    "                    if 'unit_masks_ants_registered' in plane_parent.experiment_parent.hdf5_preprocessed[plane_parent.z_name]['cellpose_segmentation'].keys():\n",
    "                        self.mask_reg = np.array(plane_parent.experiment_parent.hdf5_preprocessed[plane_parent.z_name]['cellpose_segmentation']['unit_masks_ants_registered'][str(self.cell_no_10000)]).transpose()\n",
    "                    if 'unit_contour_masks_ants_registered' in plane_parent.experiment_parent.hdf5_preprocessed[plane_parent.z_name]['cellpose_segmentation'].keys():\n",
    "                        self.contour_mask_reg = np.array(plane_parent.experiment_parent.hdf5_preprocessed[plane_parent.z_name]['cellpose_segmentation']['unit_contour_masks_ants_registered'][str(self.cell_no_10000)]).transpose()\n",
    "                    if 'unit_centroids_ants_registered' in plane_parent.experiment_parent.hdf5_preprocessed[plane_parent.z_name]['cellpose_segmentation'].keys():\n",
    "                        self.centroid_reg = tuple(plane_parent.experiment_parent.hdf5_preprocessed[plane_parent.z_name]['cellpose_segmentation']['unit_centroids_ants_registered'][self.cell_no])\n",
    "                except:\n",
    "                    pass\n",
    "\n",
    "\n",
    "                #mean of unedited trials\n",
    "                self.traces_stim0 = np.nanmean(np.array(plane_parent.experiment_parent.hdf5_preprocessed[plane_parent.z_name]['cellpose_segmentation']['stimulus_aligned_dynamics']['stimulus0000']['F'])[:,self.cell_no,:],axis=0)\n",
    "                self.traces_stim1 = np.nanmean(np.array(plane_parent.experiment_parent.hdf5_preprocessed[plane_parent.z_name]['cellpose_segmentation']['stimulus_aligned_dynamics']['stimulus0001']['F'])[:,self.cell_no,:],axis=0)\n",
    "\n",
    "                #calculation  of df/d0\n",
    "                temp0 = [(trial - np.nanmean(trial[20:30])) / np.nanmean(trial[20:30]) for trial in np.array(plane_parent.experiment_parent.hdf5_preprocessed[plane_parent.z_name]['cellpose_segmentation']['stimulus_aligned_dynamics']['stimulus0000']['F'])[:,self.cell_no,:]]\n",
    "\n",
    "                temp1 = [(trial - np.nanmean(trial[20:30])) / np.nanmean(trial[20:30]) for trial in np.array(plane_parent.experiment_parent.hdf5_preprocessed[plane_parent.z_name]['cellpose_segmentation']['stimulus_aligned_dynamics']['stimulus0001']['F'])[:,self.cell_no,:]]\n",
    "\n",
    "                #mean df/d0\n",
    "                temp0 = np.nanmean(temp0,axis=0)\n",
    "                temp1 = np.nanmean(temp1,axis=0)\n",
    "\n",
    "                self.df_d0_stim0 = temp0\n",
    "                self.df_d0_stim1 = temp1\n",
    "\n",
    "                #normalizing df/d0\n",
    "                self.traces_normalized_stim0 = (temp0 - np.nanmean(temp0))/np.nanstd(temp0)\n",
    "                self.traces_normalized_stim1 = (temp1 - np.nanmean(temp1))/np.nanstd(temp1)\n",
    "\n",
    "                self.stim0_120 = self.traces_normalized_stim0[20:140]\n",
    "                self.stim1_120 = self.traces_normalized_stim1[20:140]\n",
    "\n",
    "                #calculation of std in average trial\n",
    "                self.traces_std_intra_stim0 = np.nanstd(self.traces_stim0)\n",
    "                self.traces_std_intra_stim1 = np.nanstd(self.traces_stim1)\n",
    "\n",
    "                #calculation of std between different trials\n",
    "                self.traces_std_extra_stim0 = np.nanmean(np.nanstd(np.array(plane_parent.experiment_parent.hdf5_preprocessed[plane_parent.z_name]['cellpose_segmentation']['stimulus_aligned_dynamics']['stimulus0000']['F'])[:,self.cell_no,:],axis=0))\n",
    "                self.traces_std_extra_stim1 = np.nanmean(np.nanstd(np.array(plane_parent.experiment_parent.hdf5_preprocessed[plane_parent.z_name]['cellpose_segmentation']['stimulus_aligned_dynamics']['stimulus0001']['F'])[:,self.cell_no,:],axis=0))\n",
    "\n",
    "            def show_trace(self,location=False):\n",
    "                \"\"\"\n",
    "                Displays trace of cell\n",
    "\n",
    "                location [bool:default=False] = Determines if location of cell in plane is shown\n",
    "                \"\"\"\n",
    "                if location:\n",
    "                    self.show()\n",
    "                f,axs = plt.subplots(2,2,figsize=(15,10))\n",
    "                axs[0][0].set_title('unedited mean of stim0 reaction')\n",
    "                axs[0][0].plot(self.traces_stim0[20:140])\n",
    "                axs[0][1].set_title('unedited mean of stim1 reaction')\n",
    "                axs[0][1].plot(self.traces_stim1[20:140])\n",
    "\n",
    "\n",
    "\n",
    "                axs[1][0].set_title('normalized df/d0 mean stim0 reaction')\n",
    "                axs[1][0].plot(self.traces_normalized_stim0[20:140])\n",
    "                axs[1][1].set_title('normalized df/d0 mean stim1 reaction')\n",
    "                axs[1][1].plot(self.traces_normalized_stim1[20:140])\n",
    "\n",
    "\n",
    "            def show(self,create_new=True, size=(10,10),mode=\"c\",alpha=1,color='red',colormap='gray'):\n",
    "                \"\"\"\n",
    "                Displays location of cell in plane\n",
    "\n",
    "                create_new [bool:default=True] = Determines if plane is drawn again (for drawing multiple target cells)\n",
    "                size [tuple:default=(10,10)] = Determines size of displayed image\n",
    "                mode [str:default=(\"c\")] = Determines display mode (c=contour, m=mask, cm=contour mask)\n",
    "                alpha [int:default=1] = Determines opacity of cell marker\n",
    "                color [str:default=\"red\"] = Determines color of cell marker\n",
    "                colormap [str:default=\"gray\"] = Determines colr scheme of plane\n",
    "                \"\"\"\n",
    "                if create_new:\n",
    "                    self.plane_parent.show(size=size,colormap=colormap)\n",
    "\n",
    "                if mode == 'c':\n",
    "                    plt.plot(self.contour[:,0],self.contour[:,1],alpha=alpha,c=color)\n",
    "                elif mode == 'm':\n",
    "                    plt.plot(self.mask[:,0],self.mask[:,1],alpha=alpha,c=color)\n",
    "                elif mode == 'cm':\n",
    "                    plt.plot(self.contour_mask[:,0],self.contour_mask[:,1],alpha=alpha,c=color)\n",
    "        class plane:\n",
    "            def __init__(self, z, experiment_parent):\n",
    "                self.z_name = z\n",
    "                self.z = int(z[-4:])\n",
    "                self.experiment_parent = experiment_parent\n",
    "                self.no_cells_in_plane = len(experiment_parent.hdf5_preprocessed[self.z_name]['cellpose_segmentation']['unit_names'])\n",
    "\n",
    "                temp = np.array(experiment_parent.hdf5_preprocessed[z][\"imaging_green_channel_time_averaged\"])\n",
    "                self.avg_image = np.clip(temp,np.percentile(temp,2), np.percentile(temp, 98))-10000 #remove 10000 if not using cellpose\n",
    "\n",
    "                self.cells = dict()                                                #important. Implemented as a dictionary with integer as the cells\n",
    "\n",
    "                for cell_no in experiment_parent.hdf5_preprocessed[self.z_name]['cellpose_segmentation']['unit_names']:\n",
    "\n",
    "                    self.cells[cell_no- 10000] =  cell(cell_no, self)\n",
    "\n",
    "            def show(self,size=(10,10),colormap='gray'):\n",
    "                plt.figure(figsize=size)\n",
    "                plt.axis(\"off\")\n",
    "                plt.imshow(self.avg_image,cmap=colormap)\n",
    "\n",
    "        if os.path.isfile(self.dir_data + self.datetime + '_preprocessed_data.h5'):\n",
    "            self.hdf5_preprocessed = h5py.File(self.dir_data + self.datetime + '_preprocessed_data.h5', 'r')\n",
    "            print(f'{self.datetime}_preprocessed_data.h5 was loaded successfully.')\n",
    "\n",
    "        if not os.path.isfile(self.dir_data + self.datetime + '_preprocessed_data.h5'):\n",
    "            raise FileNotFoundError(errno.ENOENT, os.strerror(errno.ENOENT), self.dir_data + self.datetime + '_preprocessed_data.h5')\n",
    "\n",
    "        if which_planes and type(which_planes) == bool:\n",
    "\n",
    "            self.name_of_planes = [x for x in list(self.hdf5_preprocessed.keys()) if 'z_plane' in x]\n",
    "\n",
    "        elif type(which_planes) != bool and type(which_planes) == int:\n",
    "            self.name_of_planes = ['z_plane' + str(which_planes).zfill(4)]\n",
    "\n",
    "        elif type(which_planes) != bool and type(which_planes) != int:\n",
    "            raise ValueError(f'Please input plane as an integer. \"{which_planes}\" is not an integer.')\n",
    "\n",
    "        self.planes = dict()                                                #important. Implemented as a dictionary with integer as the planes\n",
    "\n",
    "        for z in self.name_of_planes:\n",
    "            self.planes[int(z[-4:])] = plane(z, self)\n",
    "            print(f'Finished plane {int(z[-4:])}')\n",
    "\n",
    "        self.all_cells = pd.DataFrame()\n",
    "\n",
    "        for p in self.planes.values():\n",
    "\n",
    "            for c in p.cells.values():\n",
    "                temp_dict = dict()\n",
    "                temp_dict['cell_no'] = c.cell_no\n",
    "                temp_dict['z'] = p.z\n",
    "                temp_dict['std_intra/std_extra_stim0'] = c.traces_std_intra_stim0/c.traces_std_extra_stim0\n",
    "                temp_dict['std_intra/std_extra_stim1'] = c.traces_std_intra_stim1/c.traces_std_extra_stim1\n",
    "                temp_dict['normalized_stim0'] = c.traces_normalized_stim0[20:140]\n",
    "                temp_dict['normalized_stim1'] = c.traces_normalized_stim1[20:140]\n",
    "\n",
    "\n",
    "\n",
    "\n",
    "                if c.centroid[0] < 400:\n",
    "                    temp_dict['centroid_pos'] = 0\n",
    "                elif c.centroid[0] >= 400:\n",
    "                    temp_dict['centroid_pos'] = 1\n",
    "\n",
    "                temp_dict['centroid_x'] = c.centroid[0]\n",
    "                temp_dict['centroid_y'] = c.centroid[1]\n",
    "\n",
    "                self.all_cells = self.all_cells.append(temp_dict,ignore_index=True)\n",
    "\n",
    "\n",
    "\n",
    "\n",
    "\n",
    "        #self.hdf5_preprocessed.close()\n",
    "\n",
    "\n",
    "\n",
    "exp_list = []\n",
    "for i,date in enumerate(dt):\n",
    "    exp_list.append(experiment(date))\n",
    "    exp_list[-1].load_data()"
   ],
   "metadata": {
    "collapsed": false,
    "pycharm": {
     "name": "#%%\n"
    }
   }
  },
  {
   "cell_type": "code",
   "execution_count": 5,
   "outputs": [
    {
     "data": {
      "text/plain": "<Figure size 432x288 with 1 Axes>",
      "image/png": "[encoded data removed]"
     },
     "metadata": {
      "needs_background": "light"
     },
     "output_type": "display_data"
    },
    {
     "data": {
      "text/plain": "<Figure size 1080x288 with 2 Axes>",
      "image/png": "[encoded data removed]"
     },
     "metadata": {
      "needs_background": "light"
     },
     "output_type": "display_data"
    },
    {
     "name": "stdout",
     "output_type": "stream",
     "text": [
      "CPU times: total: 17.3 s\n",
      "Wall time: 17.3 s\n"
     ]
    }
   ],
   "source": [
    "%%time\n",
    "class analyzer:\n",
    "    def __init__(self,experiment):\n",
    "        self.ex = experiment\n",
    "        self.all_cells = self.ex.all_cells\n",
    "\n",
    "\n",
    "\n",
    "    def point_and_mean_rule(self,start=0,middle=40,end=80,ks=2.5,ke=2.3,krs=1.1,kre=1.4):\n",
    "        self.all_cells_corrected = self.all_cells.copy(deep=True)\n",
    "        self.all_cells_corrected = self.all_cells_corrected.reset_index(drop=True)\n",
    "        temp0 = []\n",
    "        temp1 = []\n",
    "        for i, item in self.all_cells_corrected.iterrows():\n",
    "            self.all_cells_corrected.at[i,'normalized_stim0'] = item['normalized_stim0'] - np.nanmin(item['normalized_stim0'])\n",
    "            self.all_cells_corrected.at[i,'normalized_stim1'] = item['normalized_stim1'] - np.nanmin(item['normalized_stim1'])\n",
    "\n",
    "            temp0.append(self.all_cells_corrected.at[i,'normalized_stim0'])\n",
    "            temp1.append(self.all_cells_corrected.at[i,'normalized_stim1'])\n",
    "        self.corrected_traces0 = np.array(temp0)\n",
    "        self.corrected_traces1 = np.array(temp1)\n",
    "        for i, item in self.all_cells_corrected.iterrows():\n",
    "\n",
    "            smooth0 = sp.ndimage.gaussian_filter(item['normalized_stim0'],7)\n",
    "            smooth1 = sp.ndimage.gaussian_filter(item['normalized_stim1'],7)\n",
    "\n",
    "            if smooth0[middle] > smooth0[start] * ks and  smooth0[middle] > smooth0[end] * ke and smooth0[end] > smooth0[end+20]:\n",
    "                self.all_cells_corrected.at[i,'rebound_ipsi_response0'] = True\n",
    "            else:\n",
    "                self.all_cells_corrected.at[i,'rebound_ipsi_response0'] = False\n",
    "\n",
    "            if smooth1[middle] > smooth1[start] * ks and  smooth1[middle] > smooth1[end] * ke and smooth1[end] > smooth1[end+20] * ke:\n",
    "                self.all_cells_corrected.at[i,'rebound_ipsi_response1'] = True\n",
    "            else:\n",
    "                self.all_cells_corrected.at[i,'rebound_ipsi_response1'] = False\n",
    "\n",
    "\n",
    "            if np.mean(smooth0[40:80]) < np.mean(smooth0[0:20]) * krs and  np.mean(smooth0[30:80]) < np.mean(smooth0[100:120]) * kre: #and smooth0[end] > smooth0[end+20]:\n",
    "                self.all_cells_corrected.at[i,'rebound_contra_response0'] = True\n",
    "            else:\n",
    "                self.all_cells_corrected.at[i,'rebound_contra_response0'] = False\n",
    "\n",
    "            if np.mean(smooth1[40:80]) < np.mean(smooth1[0:20]) * krs and  np.mean(smooth1[30:80]) < np.mean(smooth1[100:120]) * kre: #and smooth1[end] > smooth1[end+20] * ke:\n",
    "                self.all_cells_corrected.at[i,'rebound_contra_response1'] = True\n",
    "            else:\n",
    "                self.all_cells_corrected.at[i,'rebound_contra_response1'] = False\n",
    "\n",
    "            if np.mean(smooth0[0:20])* 1.1 < np.mean(smooth0[100:120]) :\n",
    "                self.all_cells_corrected.at[i,'higher_end0'] = True\n",
    "            else:\n",
    "                self.all_cells_corrected.at[i,'higher_end0'] = False\n",
    "\n",
    "\n",
    "            if np.mean(smooth1[0:20])* 1.1 < np.mean(smooth1[100:120]) :\n",
    "                self.all_cells_corrected.at[i,'higher_end1'] = True\n",
    "            else:\n",
    "                self.all_cells_corrected.at[i,'higher_end1'] = False\n",
    "\n",
    "            self.all_cells_corrected.at[i,'corr_coeff'] = np.corrcoef(smooth0,smooth1)[0][1]\n",
    "\n",
    "\n",
    "            if np.std(smooth0[0:30]) > np.std(smooth0[40:100]):\n",
    "                self.all_cells_corrected.at[i,'std0'] = True\n",
    "            else:\n",
    "                self.all_cells_corrected.at[i,'std0'] = False\n",
    "\n",
    "            if np.std(smooth1[0:30]) > np.std(smooth1[40:100]):\n",
    "                self.all_cells_corrected.at[i,'std1'] = True\n",
    "            else:\n",
    "                self.all_cells_corrected.at[i,'std1'] = False\n",
    "\n",
    "\n",
    "\n",
    "\n",
    "\n",
    "    def show_trace(self,cell=0,z=0,smooth=True,alph=0.2):\n",
    "        f,axs = plt.subplots(1,2,figsize=(15,4),sharey=True,)\n",
    "\n",
    "        temp0 = self.all_cells[(self.all_cells['z']==z)&(self.all_cells['cell_no']==cell)]['normalized_stim0'].to_list()[0]\n",
    "        temp1 = self.all_cells[(self.all_cells['z']==z)&(self.all_cells['cell_no']==cell)]['normalized_stim1'].to_list()[0]\n",
    "\n",
    "        axs[0].plot(temp0,alpha=alph,c='red')\n",
    "        axs[1].plot(temp1,alpha=alph,c='red')\n",
    "\n",
    "        axs[0].plot(sp.ndimage.gaussian_filter(temp0,10))\n",
    "        axs[1].plot(sp.ndimage.gaussian_filter(temp1,10))\n",
    "\n",
    "        axs[0].set_title('stim0')\n",
    "        axs[1].set_title('stim1')\n",
    "\n",
    "test = analyzer(analyzer(exp_list[0]))\n",
    "test.point_and_mean_rule(start=0,middle=40,end=80,ks=1,ke=2,krs=1.1,kre=1.2)\n",
    "\n",
    "ana_list = []\n",
    "subset0_list = []\n",
    "for i,exp in enumerate(exp_list):\n",
    "    ana_list.append(analyzer(exp))\n",
    "    ana_list[-1].point_and_mean_rule(start=0,middle=40,end=80,ks=1,ke=2,krs=1.2,kre=1.2)\n",
    "\n",
    "\n",
    "\n",
    "    subset0_list.append(ana_list[-1].all_cells_corrected)\n",
    "\n",
    "\n",
    "\n",
    "    subset0_list[-1] = subset0_list[-1][(((subset0_list[-1]['rebound_contra_response0']==True)\n",
    "                                          &(subset0_list[-1]['rebound_ipsi_response1']==True)\n",
    "                                          &(subset0_list[-1]['std0']))\n",
    "                                         |((subset0_list[-1]['rebound_contra_response1']==True)\n",
    "                                           &(subset0_list[-1]['rebound_ipsi_response0']==True)\n",
    "                                           &(subset0_list[-1]['std1'])))\n",
    "                                        &(subset0_list[-1]['corr_coeff']<=0)].sort_values('corr_coeff',ascending=True)\n",
    "\n",
    "\n",
    "    subset0_list[-1] = subset0_list[-1][(subset0_list[-1][\"higher_end0\"])|subset0_list[-1][\"higher_end1\"]].sort_values(\"cell_no\")\n",
    "\n",
    "\n",
    "\n",
    "def create_trace_array(df,experiment,determinator):\n",
    "    ipsi0 = []\n",
    "    ipsi1 = []\n",
    "    contra0 = []\n",
    "    contra1 =[]\n",
    "\n",
    "    array_list = [ipsi0,ipsi1,contra0,contra1]\n",
    "\n",
    "\n",
    "    filler_array = np.empty((120,1))\n",
    "    filler_array[:] = np.nan\n",
    "\n",
    "\n",
    "    for i,item in df.iterrows():\n",
    "        if item[determinator + '0'] == True:\n",
    "            ipsi0.append(experiment.planes[item['z']].cells[item['cell_no']].stim0_120)\n",
    "            contra0.append(experiment.planes[item['z']].cells[item['cell_no']].stim1_120)\n",
    "        if item[determinator + '0'] == False:\n",
    "            ipsi1.append(experiment.planes[item['z']].cells[item['cell_no']].stim1_120)\n",
    "\n",
    "            contra1.append(experiment.planes[item['z']].cells[item['cell_no']].stim0_120)\n",
    "\n",
    "\n",
    "    ipsi0_smooth = sp.ndimage.gaussian_filter(ipsi0,8)\n",
    "    ipsi1_smooth = sp.ndimage.gaussian_filter(ipsi1,8)\n",
    "\n",
    "\n",
    "    if len(contra0) == 0:\n",
    "        contra0 = np.empty((120,1))\n",
    "        contra0[:] = np.nan\n",
    "    else:\n",
    "        contra0 = np.nanmean(np.array(contra0),axis=0)\n",
    "        contra0 = np.reshape(contra0,(120,1))\n",
    "\n",
    "    if len(contra1) == 0:\n",
    "        contra1 = np.empty((120,1))\n",
    "        contra1[:] = np.nan\n",
    "    else:\n",
    "        contra1 = np.nanmean(np.array(contra1),axis=0)\n",
    "        contra1 = np.reshape(contra1,(120,1))\n",
    "\n",
    "    if len(ipsi0) == 0:\n",
    "        ipsi0 = np.empty((120,1))\n",
    "        ipsi0[:] = np.nan\n",
    "    else:\n",
    "        ipsi0 = np.nanmean(np.array(ipsi0),axis=0)\n",
    "        ipsi0 = np.reshape(ipsi0,(120,1))\n",
    "\n",
    "    if len(ipsi1) == 0:\n",
    "        ipsi1 = np.empty((120,1))\n",
    "        ipsi1[:] = np.nan\n",
    "    else:\n",
    "        ipsi1 = np.nanmean(np.array(ipsi1),axis=0)\n",
    "        ipsi1 = np.reshape(ipsi1,(120,1))\n",
    "\n",
    "\n",
    "\n",
    "    contra0_smooth = sp.ndimage.gaussian_filter(contra0,8)\n",
    "    contra1_smooth = sp.ndimage.gaussian_filter(contra1,8)\n",
    "\n",
    "    ipsi0_smooth = sp.ndimage.gaussian_filter(ipsi0,8)\n",
    "    ipsi1_smooth = sp.ndimage.gaussian_filter(ipsi1,8)\n",
    "\n",
    "\n",
    "    contra_regressor = np.nanmean(np.hstack((contra0_smooth,contra1_smooth)),axis=1)\n",
    "    ipsi_regressor = np.nanmean(np.hstack((ipsi0_smooth,ipsi1_smooth)),axis=1)\n",
    "\n",
    "    plt.plot(contra_regressor)\n",
    "    plt.plot(ipsi_regressor)\n",
    "    plt.title('regressors')\n",
    "    plt.show()\n",
    "\n",
    "    f,axs = plt.subplots(1,2,figsize=(15,4))\n",
    "    axs[0].plot(ipsi0,alpha=0.1,c='blue')\n",
    "    axs[0].plot(ipsi0_smooth,c='blue')\n",
    "    axs[0].plot(contra0,c='red',alpha=0.1)\n",
    "    axs[0].plot(contra0_smooth,c='red')\n",
    "    axs[0].set_title('stim0')\n",
    "\n",
    "    axs[1].plot(ipsi1_smooth,c='blue')\n",
    "    axs[1].plot(ipsi1,alpha=0.1,c='blue')\n",
    "    axs[1].plot(contra1,c='red',alpha=0.1)\n",
    "    axs[1].plot(contra1_smooth,c='red')\n",
    "    axs[1].set_title('stim1')\n",
    "    plt.show()\n",
    "\n",
    "    return contra_regressor,ipsi_regressor\n",
    "\n",
    "\n",
    "contra_regressor_list = []\n",
    "ipsi_regressor_list = []\n",
    "\n",
    "\n",
    "for i,subset in enumerate(subset0_list):\n",
    "    temp_c_reg, temp_i_reg = create_trace_array(subset,exp_list[i],'rebound_ipsi_response')\n",
    "\n",
    "    contra_regressor_list.append(temp_c_reg)\n",
    "    ipsi_regressor_list.append(temp_i_reg)\n",
    "\n",
    "\n",
    "# contra_regressor,ipsi_regressor = create_trace_array(subset0,lol,'rebound_ipsi_response')"
   ],
   "metadata": {
    "collapsed": false,
    "pycharm": {
     "name": "#%%\n"
    }
   }
  },
  {
   "cell_type": "code",
   "execution_count": 6,
   "outputs": [
    {
     "data": {
      "text/plain": "[<__main__.analyzer at 0x261f3f199d0>]"
     },
     "execution_count": 6,
     "metadata": {},
     "output_type": "execute_result"
    }
   ],
   "source": [
    "ana_list"
   ],
   "metadata": {
    "collapsed": false,
    "pycharm": {
     "name": "#%%\n"
    }
   }
  },
  {
   "cell_type": "code",
   "execution_count": 7,
   "outputs": [],
   "source": [
    "xmax = 0\n",
    "ymax = 0\n",
    "\n",
    "xmin = 10000\n",
    "ymin = 10000\n",
    "\n",
    "for exp in exp_list:\n",
    "    for plane in exp.planes:\n",
    "        for cell in exp.planes[plane].cells:\n",
    "\n",
    "            if np.max(exp.planes[plane].cells[cell].mask_reg[:,1]) >= xmax:\n",
    "                xmax = np.max(exp.planes[plane].cells[cell].mask_reg[:,1])\n",
    "\n",
    "            if np.max(exp.planes[plane].cells[cell].mask_reg[:,2]) >= ymax:\n",
    "                ymax = np.max(exp.planes[plane].cells[cell].mask_reg[:,2])\n",
    "\n",
    "            if np.min(exp.planes[plane].cells[cell].mask_reg[:,1]) <= xmin:\n",
    "                xmin = np.min(exp.planes[plane].cells[cell].mask_reg[:,1])\n",
    "\n",
    "            if np.min(exp.planes[plane].cells[cell].mask_reg[:,2]) <= ymin:\n",
    "                ymin = np.min(exp.planes[plane].cells[cell].mask_reg[:,2])"
   ],
   "metadata": {
    "collapsed": false,
    "pycharm": {
     "name": "#%%\n"
    }
   }
  },
  {
   "cell_type": "code",
   "execution_count": 8,
   "outputs": [],
   "source": [
    "def array_writer(array,mask,value,x_off,y_off):\n",
    "    if value >= 0:\n",
    "        for y in np.unique(mask[:,2]):\n",
    "\n",
    "            xmin = np.min(mask[mask[:,2]==y][:,1])\n",
    "            xmax = np.max(mask[mask[:,2]==y][:,1])\n",
    "            array[xmin-x_off:xmax-x_off,y-y_off] = array[xmin-x_off:xmax-x_off,y-y_off] + value\n",
    "\n",
    "\n",
    "    return array"
   ],
   "metadata": {
    "collapsed": false,
    "pycharm": {
     "name": "#%%\n"
    }
   }
  },
  {
   "cell_type": "code",
   "execution_count": 9,
   "outputs": [
    {
     "name": "stdout",
     "output_type": "stream",
     "text": [
      "<__main__.analyzer object at 0x00000261F3F199D0>\n"
     ]
    }
   ],
   "source": [
    "for i0,ana in enumerate(ana_list):\n",
    "    for i,item in ana.all_cells_corrected.iterrows():\n",
    "\n",
    "        smooth0 = sp.ndimage.gaussian_filter(item['normalized_stim0'],7)\n",
    "        smooth1 = sp.ndimage.gaussian_filter(item['normalized_stim1'],7)\n",
    "\n",
    "        ana_list[i0].all_cells_corrected.at[i,'corr_contra_regressor0'] = np.corrcoef(contra_regressor_list[i0],smooth0)[0][1]\n",
    "        ana_list[i0].all_cells_corrected.at[i,'corr_contra_regressor1'] = np.corrcoef(contra_regressor_list[i0],smooth1)[0][1]\n",
    "\n",
    "        ana_list[i0].all_cells_corrected.at[i,'corr_ipsi_regressor0'] = np.corrcoef(ipsi_regressor_list[i0],smooth0)[0][1]\n",
    "        ana_list[i0].all_cells_corrected.at[i,'corr_ipsi_regressor1'] = np.corrcoef(ipsi_regressor_list[i0],smooth1)[0][1]\n",
    "\n",
    "cells = pd.DataFrame(columns = ana_list[i0].all_cells_corrected.columns)\n",
    "\n",
    "\n",
    "\n",
    "cells[\"x_contour_reg\"] = 0\n",
    "cells[\"y_contour_reg\"] = 0\n",
    "cells[\"z_contour_reg\"] = 0\n",
    "cells[\"x_contour_reg\"] = cells[\"x_contour_reg\"].astype(\"object\")\n",
    "cells[\"y_contour_reg\"] = cells[\"y_contour_reg\"].astype(\"object\")\n",
    "cells[\"z_contour_reg\"] = cells[\"z_contour_reg\"].astype(\"object\")\n",
    "\n",
    "cells[\"x_contour\"] = 0\n",
    "cells[\"y_contour\"] = 0\n",
    "cells[\"x_contour\"] = cells[\"x_contour\"].astype(\"object\")\n",
    "cells[\"y_contour\"] = cells[\"y_contour\"].astype(\"object\")\n",
    "\n",
    "\n",
    "\n",
    "\n",
    "\n",
    "for i0,ana in enumerate(ana_list):\n",
    "    ana.all_cells_corrected.loc[:,\"internal_exp_no\"] = int(i0)\n",
    "\n",
    "    print(ana)\n",
    "    cells = pd.concat([cells,ana.all_cells_corrected])\n",
    "cells = cells.reset_index(drop=True)\n",
    "cells[\"internal_exp_no\"] = cells[\"internal_exp_no\"].astype(int)\n",
    "for i,item in cells.iterrows():\n",
    "    cells.loc[i,\"unique_cell_no\"] = i\n",
    "\n",
    "    cells.loc[i,\"mask_max_x\"] = np.max(exp_list[item[\"internal_exp_no\"]].planes[item[\"z\"]].cells[item[\"cell_no\"]].mask_reg[:,1])\n",
    "    cells.loc[i,\"mask_max_y\"] = np.max(exp_list[item[\"internal_exp_no\"]].planes[item[\"z\"]].cells[item[\"cell_no\"]].mask_reg[:,2])\n",
    "    cells.loc[i,\"mask_min_x\"] = np.min(exp_list[item[\"internal_exp_no\"]].planes[item[\"z\"]].cells[item[\"cell_no\"]].mask_reg[:,1])\n",
    "    cells.loc[i,\"mask_min_y\"] = np.min(exp_list[item[\"internal_exp_no\"]].planes[item[\"z\"]].cells[item[\"cell_no\"]].mask_reg[:,2])\n",
    "    cells.loc[i,\"z_reg\"] = np.nanmean(exp_list[item[\"internal_exp_no\"]].planes[item[\"z\"]].cells[item[\"cell_no\"]].mask_reg[:,0])\n",
    "    cells.loc[i,\"x_centroid_reg\"] = np.nanmean(exp_list[item[\"internal_exp_no\"]].planes[item[\"z\"]].cells[item[\"cell_no\"]].centroid_reg[1])\n",
    "    cells.loc[i,\"z_centroid_reg\"] = np.nanmean(exp_list[item[\"internal_exp_no\"]].planes[item[\"z\"]].cells[item[\"cell_no\"]].centroid_reg[2])\n",
    "    cells.loc[i,\"y_centroid_reg\"] = np.nanmean(exp_list[item[\"internal_exp_no\"]].planes[item[\"z\"]].cells[item[\"cell_no\"]].centroid_reg[0])\n",
    "    cells.loc[i,\"dir_data\"] = exp_list[item[\"internal_exp_no\"]].planes[item[\"z\"]].cells[item[\"cell_no\"]].dir_data\n",
    "    if \"internal_exp_no\" not in cells.iloc[:,-16:-11].columns:\n",
    "        cells.iat[i,-16] = exp_list[int(item[\"internal_exp_no\"])].planes[int(item[\"z\"])].cells[int(item[\"cell_no\"])].contour_reg[:,0]\n",
    "        cells.iat[i,-15] = exp_list[int(item[\"internal_exp_no\"])].planes[int(item[\"z\"])].cells[int(item[\"cell_no\"])].contour_reg[:,1]\n",
    "        cells.iat[i,-14] = exp_list[int(item[\"internal_exp_no\"])].planes[int(item[\"z\"])].cells[int(item[\"cell_no\"])].contour_reg[:,2]\n",
    "        cells.iat[i,-13] = exp_list[int(item[\"internal_exp_no\"])].planes[int(item[\"z\"])].cells[int(item[\"cell_no\"])].contour[:,0]\n",
    "        cells.iat[i,-12] = exp_list[int(item[\"internal_exp_no\"])].planes[int(item[\"z\"])].cells[int(item[\"cell_no\"])].contour[:,1]\n",
    "    else:\n",
    "        cells.iat[i,-15] = exp_list[int(item[\"internal_exp_no\"])].planes[int(item[\"z\"])].cells[int(item[\"cell_no\"])].contour_reg[:,0]\n",
    "        cells.iat[i,-14] = exp_list[int(item[\"internal_exp_no\"])].planes[int(item[\"z\"])].cells[int(item[\"cell_no\"])].contour_reg[:,1]\n",
    "        cells.iat[i,-13] = exp_list[int(item[\"internal_exp_no\"])].planes[int(item[\"z\"])].cells[int(item[\"cell_no\"])].contour_reg[:,2]\n",
    "        cells.iat[i,-12] = exp_list[int(item[\"internal_exp_no\"])].planes[int(item[\"z\"])].cells[int(item[\"cell_no\"])].contour[:,0]\n",
    "        cells.iat[i,-11] = exp_list[int(item[\"internal_exp_no\"])].planes[int(item[\"z\"])].cells[int(item[\"cell_no\"])].contour[:,1]\n",
    "\n",
    "\n",
    "\n",
    "\n",
    "cells = cells.reset_index(drop=True)\n"
   ],
   "metadata": {
    "collapsed": false,
    "pycharm": {
     "name": "#%%\n"
    }
   }
  },
  {
   "cell_type": "code",
   "execution_count": 10,
   "outputs": [],
   "source": [
    "#just treshold selection\n",
    "treshold = 0.9\n",
    "selected_cells = cells[((cells['corr_contra_regressor0']>=treshold)&(cells['corr_ipsi_regressor1']>=treshold)&(cells['centroid_pos']==1))|\n",
    "                       ((cells['corr_contra_regressor1']>=treshold)&(cells['corr_ipsi_regressor0']>=treshold)&(cells['centroid_pos']==0))].sort_values('corr_contra_regressor0',ascending=False)"
   ],
   "metadata": {
    "collapsed": false,
    "pycharm": {
     "name": "#%%\n"
    }
   }
  },
  {
   "cell_type": "code",
   "execution_count": 11,
   "outputs": [
    {
     "data": {
      "text/plain": "internal_exp_no\n0    20\ndtype: int64"
     },
     "execution_count": 11,
     "metadata": {},
     "output_type": "execute_result"
    }
   ],
   "source": [
    "#look for treshold that gives at 20 cells per fish\n",
    "selected_cells_per_iep = pd.DataFrame(columns = cells.columns)\n",
    "\n",
    "\n",
    "for iep in cells.internal_exp_no.unique():\n",
    "\n",
    "    for x in np.linspace(1,0,num=1000):\n",
    "        treshold = x\n",
    "\n",
    "        sc = cells[(((cells['corr_contra_regressor0']>=treshold)\n",
    "                     &(cells['corr_ipsi_regressor1']>=treshold))|\n",
    "                    ((cells['corr_contra_regressor1']>=treshold)\n",
    "                     &(cells['corr_ipsi_regressor0']>=treshold)))\n",
    "                   &(cells['centroid_y']>=100)\n",
    "                   &(cells['internal_exp_no']==iep)].sort_values('corr_contra_regressor0',ascending=False)\n",
    "\n",
    "\n",
    "        if len(sc)>=20:\n",
    "\n",
    "            selected_cells_per_iep = pd.concat([selected_cells_per_iep,sc])\n",
    "            selected_cells_per_iep.loc[selected_cells_per_iep[\"internal_exp_no\"]==iep,\"selection_treshold\"] = x\n",
    "            break\n",
    "\n",
    "selected_cells_per_iep\n",
    "selected_cells_per_iep.groupby(\"internal_exp_no\").size()"
   ],
   "metadata": {
    "collapsed": false,
    "pycharm": {
     "name": "#%%\n"
    }
   }
  },
  {
   "cell_type": "code",
   "execution_count": 12,
   "outputs": [
    {
     "data": {
      "text/plain": "internal_exp_no\n0    100\ndtype: int64"
     },
     "execution_count": 12,
     "metadata": {},
     "output_type": "execute_result"
    }
   ],
   "source": [
    "#look for treshold that gives 100 best cells\n",
    "for x in np.linspace(1,0,num=1000):\n",
    "    treshold = x\n",
    "    subset1 = cells\n",
    "    selected_cells_100 = cells[(((cells['corr_contra_regressor0']>=treshold)&(cells['corr_ipsi_regressor1']>=treshold))|\n",
    "                                ((cells['corr_contra_regressor1']>=treshold)&(cells['corr_ipsi_regressor0']>=treshold)))&(cells['centroid_y']>=200)].sort_values('corr_contra_regressor0',ascending=False)\n",
    "\n",
    "    if len(selected_cells_100)>=100:\n",
    "        break\n",
    "selected_cells_100.sort_values(\"centroid_y\")\n",
    "selected_cells_100.groupby(\"internal_exp_no\").size()"
   ],
   "metadata": {
    "collapsed": false,
    "pycharm": {
     "name": "#%%\n"
    }
   }
  },
  {
   "cell_type": "code",
   "execution_count": 13,
   "outputs": [],
   "source": [
    "# enter prefered version of selection of cells df (selected_cells, selected_cells_per_iep, selected_cells_100)\n",
    "selection = selected_cells"
   ],
   "metadata": {
    "collapsed": false,
    "pycharm": {
     "name": "#%%\n"
    }
   }
  },
  {
   "cell_type": "code",
   "execution_count": 14,
   "outputs": [],
   "source": [
    "selected_cells_contra = []\n",
    "selected_cells_ipsi = []\n",
    "treshold = 0.8\n",
    "\n",
    "for i,item in selection.iterrows():\n",
    "    if item['corr_contra_regressor0'] >=treshold and item['rebound_contra_response0'] and item['corr_coeff']<= 0:\n",
    "        selected_cells_contra.append(item['normalized_stim0'])\n",
    "        selected_cells_ipsi.append(item['normalized_stim1'])\n",
    "    elif item['corr_contra_regressor1'] >=treshold and item['rebound_contra_response1'] and item['corr_coeff']<= 0:\n",
    "        selected_cells_contra.append(item['normalized_stim1'])\n",
    "        selected_cells_ipsi.append(item['normalized_stim0'])"
   ],
   "metadata": {
    "collapsed": false,
    "pycharm": {
     "name": "#%%\n"
    }
   }
  },
  {
   "cell_type": "code",
   "execution_count": 15,
   "outputs": [],
   "source": [
    "cells[\"df_d0_stim0\"]=\"a\"\n",
    "cells[\"df_d0_stim1\"]=\"a\"\n",
    "cells[\"df_d0_stim0\"] = cells[\"df_d0_stim0\"].astype(\"object\")\n",
    "cells[\"df_d0_stim1\"] = cells[\"df_d0_stim1\"].astype(\"object\")\n",
    "\n",
    "for i, item in cells.iterrows():\n",
    "    cells.iat[i,-2] = exp_list[int(item[\"internal_exp_no\"])].planes[int(item[\"z\"])].cells[int(item[\"cell_no\"])].df_d0_stim0[20:140]\n",
    "    cells.iat[i,-1] = exp_list[int(item[\"internal_exp_no\"])].planes[int(item[\"z\"])].cells[int(item[\"cell_no\"])].df_d0_stim1[20:140]\n",
    "\n",
    "cells[\"selected_cell\"]=False\n",
    "for ien,z,cell_no in zip(selection['internal_exp_no'],selection['z'],selection['cell_no']):\n",
    "    cells.loc[(cells[\"cell_no\"]==cell_no)&(cells[\"z\"]==z)&(cells[\"internal_exp_no\"]==ien),\"selected_cell\"]=True"
   ],
   "metadata": {
    "collapsed": false,
    "pycharm": {
     "name": "#%%\n"
    }
   }
  },
  {
   "cell_type": "code",
   "execution_count": 16,
   "outputs": [
    {
     "name": "stderr",
     "output_type": "stream",
     "text": [
      "C:\\Users\\ag-bahl\\AppData\\Local\\Temp\\ipykernel_18508\\2630174911.py:1: PerformanceWarning: \n",
      "your performance may suffer as PyTables will pickle object types that it cannot\n",
      "map directly to c-types [inferred_type->mixed-integer,key->block2_values] [items->Index(['cell_no', 'z', 'std_intra/std_extra_stim0',\n",
      "       'std_intra/std_extra_stim1', 'normalized_stim0', 'normalized_stim1',\n",
      "       'centroid_pos', 'centroid_x', 'centroid_y', 'rebound_ipsi_response0',\n",
      "       'rebound_ipsi_response1', 'rebound_contra_response0',\n",
      "       'rebound_contra_response1', 'higher_end0', 'higher_end1', 'corr_coeff',\n",
      "       'std0', 'std1', 'corr_contra_regressor0', 'corr_contra_regressor1',\n",
      "       'corr_ipsi_regressor0', 'corr_ipsi_regressor1', 'x_contour_reg',\n",
      "       'y_contour_reg', 'z_contour_reg', 'x_contour', 'y_contour', 'dir_data',\n",
      "       'df_d0_stim0', 'df_d0_stim1'],\n",
      "      dtype='object')]\n",
      "\n",
      "  cells.to_hdf(\"cells.hdf5\",'cells')\n"
     ]
    }
   ],
   "source": [
    "cells.to_hdf(\"cells.hdf5\",'cells')"
   ],
   "metadata": {
    "collapsed": false,
    "pycharm": {
     "name": "#%%\n"
    }
   }
  }
 ],
 "metadata": {
  "kernelspec": {
   "display_name": "Python 3",
   "language": "python",
   "name": "python3"
  },
  "language_info": {
   "codemirror_mode": {
    "name": "ipython",
    "version": 2
   },
   "file_extension": ".py",
   "mimetype": "text/x-python",
   "name": "python",
   "nbconvert_exporter": "python",
   "pygments_lexer": "ipython2",
   "version": "2.7.6"
  }
 },
 "nbformat": 4,
 "nbformat_minor": 0
}